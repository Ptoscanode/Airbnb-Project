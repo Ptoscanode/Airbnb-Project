{
 "cells": [
  {
   "cell_type": "markdown",
   "metadata": {},
   "source": [
    "# Data Science Project - Airbnb\n",
    "\n",
    "## 1 - Business Understanding\n",
    "\n",
    "Airbnb operates an online marketplace for lodging, primarily homestays for vacation rentals, and tourism activities, being based in San Francisco, California. The company wants to know more about its New York city customers as part of an expansion strategy. It wants to know where they usually stay, for how long, in what room type and how much they are willing to pay to stay in New York city. \n",
    "\n",
    "\n",
    "## 2 - Data Understanding\n",
    "\n",
    "This project consists of analyzing a dataset containing Airbnb records from New York City in the year 2019.\n",
    "\n",
    "This dataset has been downloaded from [Kaggle](https://www.kaggle.com/dgomonov/new-york-city-airbnb-open-data) and contains over 48,000 records containing the following:\n",
    "\n",
    "- Host ID\n",
    "- Customer name\n",
    "- Borough where the customer stayed\n",
    "- Borough's geo location (latitude and longitude)\n",
    "- Room type\n",
    "- Number of nights\n",
    "- Price per night\n",
    "- Number of reviews"
   ]
  },
  {
   "cell_type": "markdown",
   "metadata": {},
   "source": [
    "## 3 - Data Preparation\n",
    "\n",
    "The data needs some cleansing. So, we are going to open the data, explore it, and do some cleansing so it can be ready to answer the business questions"
   ]
  },
  {
   "cell_type": "code",
   "execution_count": 166,
   "metadata": {},
   "outputs": [
    {
     "name": "stdout",
     "output_type": "stream",
     "text": [
      "Pandas version: 1.0.3\n",
      "Matplotlib version: 2.2.2\n",
      "Seaborn version: 0.10.1\n"
     ]
    }
   ],
   "source": [
    "### Importing Pandas, Matplotlib and Seaborn\n",
    "import pandas as pd\n",
    "import matplotlib\n",
    "import matplotlib.pyplot as plt\n",
    "import seaborn as sns\n",
    "\n",
    "### Enabling matplotlib on Jupyter\n",
    "%matplotlib inline\n",
    "\n",
    "### Checking Packages version\n",
    "print('Pandas version: {}'.format(pd.__version__))\n",
    "print('Matplotlib version: {}'.format(matplotlib.__version__))\n",
    "print('Seaborn version: {}'.format(sns.__version__))"
   ]
  },
  {
   "cell_type": "code",
   "execution_count": 167,
   "metadata": {},
   "outputs": [],
   "source": [
    "### Opening file\n",
    "df = pd.read_csv('C:/Python/AB_NYC_2019.csv')"
   ]
  },
  {
   "cell_type": "code",
   "execution_count": 168,
   "metadata": {},
   "outputs": [
    {
     "name": "stdout",
     "output_type": "stream",
     "text": [
      "<class 'pandas.core.frame.DataFrame'>\n",
      "RangeIndex: 48895 entries, 0 to 48894\n",
      "Data columns (total 16 columns):\n",
      " #   Column                          Non-Null Count  Dtype  \n",
      "---  ------                          --------------  -----  \n",
      " 0   id                              48895 non-null  int64  \n",
      " 1   name                            48879 non-null  object \n",
      " 2   host_id                         48895 non-null  int64  \n",
      " 3   host_name                       48874 non-null  object \n",
      " 4   neighbourhood_group             48895 non-null  object \n",
      " 5   neighbourhood                   48895 non-null  object \n",
      " 6   latitude                        48895 non-null  float64\n",
      " 7   longitude                       48895 non-null  float64\n",
      " 8   room_type                       48895 non-null  object \n",
      " 9   price                           48895 non-null  int64  \n",
      " 10  minimum_nights                  48895 non-null  int64  \n",
      " 11  number_of_reviews               48895 non-null  int64  \n",
      " 12  last_review                     38843 non-null  object \n",
      " 13  reviews_per_month               38843 non-null  float64\n",
      " 14  calculated_host_listings_count  48895 non-null  int64  \n",
      " 15  availability_365                48895 non-null  int64  \n",
      "dtypes: float64(3), int64(7), object(6)\n",
      "memory usage: 6.0+ MB\n"
     ]
    }
   ],
   "source": [
    "### Getting information about the dataset\n",
    "df.info()"
   ]
  },
  {
   "cell_type": "code",
   "execution_count": 169,
   "metadata": {},
   "outputs": [
    {
     "data": {
      "text/html": [
       "<div>\n",
       "<style scoped>\n",
       "    .dataframe tbody tr th:only-of-type {\n",
       "        vertical-align: middle;\n",
       "    }\n",
       "\n",
       "    .dataframe tbody tr th {\n",
       "        vertical-align: top;\n",
       "    }\n",
       "\n",
       "    .dataframe thead th {\n",
       "        text-align: right;\n",
       "    }\n",
       "</style>\n",
       "<table border=\"1\" class=\"dataframe\">\n",
       "  <thead>\n",
       "    <tr style=\"text-align: right;\">\n",
       "      <th></th>\n",
       "      <th>id</th>\n",
       "      <th>name</th>\n",
       "      <th>host_id</th>\n",
       "      <th>host_name</th>\n",
       "      <th>neighbourhood_group</th>\n",
       "      <th>neighbourhood</th>\n",
       "      <th>latitude</th>\n",
       "      <th>longitude</th>\n",
       "      <th>room_type</th>\n",
       "      <th>price</th>\n",
       "      <th>minimum_nights</th>\n",
       "      <th>number_of_reviews</th>\n",
       "      <th>last_review</th>\n",
       "      <th>reviews_per_month</th>\n",
       "      <th>calculated_host_listings_count</th>\n",
       "      <th>availability_365</th>\n",
       "    </tr>\n",
       "  </thead>\n",
       "  <tbody>\n",
       "    <tr>\n",
       "      <th>0</th>\n",
       "      <td>2539</td>\n",
       "      <td>Clean &amp; quiet apt home by the park</td>\n",
       "      <td>2787</td>\n",
       "      <td>John</td>\n",
       "      <td>Brooklyn</td>\n",
       "      <td>Kensington</td>\n",
       "      <td>40.64749</td>\n",
       "      <td>-73.97237</td>\n",
       "      <td>Private room</td>\n",
       "      <td>149</td>\n",
       "      <td>1</td>\n",
       "      <td>9</td>\n",
       "      <td>2018-10-19</td>\n",
       "      <td>0.21</td>\n",
       "      <td>6</td>\n",
       "      <td>365</td>\n",
       "    </tr>\n",
       "    <tr>\n",
       "      <th>1</th>\n",
       "      <td>2595</td>\n",
       "      <td>Skylit Midtown Castle</td>\n",
       "      <td>2845</td>\n",
       "      <td>Jennifer</td>\n",
       "      <td>Manhattan</td>\n",
       "      <td>Midtown</td>\n",
       "      <td>40.75362</td>\n",
       "      <td>-73.98377</td>\n",
       "      <td>Entire home/apt</td>\n",
       "      <td>225</td>\n",
       "      <td>1</td>\n",
       "      <td>45</td>\n",
       "      <td>2019-05-21</td>\n",
       "      <td>0.38</td>\n",
       "      <td>2</td>\n",
       "      <td>355</td>\n",
       "    </tr>\n",
       "    <tr>\n",
       "      <th>2</th>\n",
       "      <td>3647</td>\n",
       "      <td>THE VILLAGE OF HARLEM....NEW YORK !</td>\n",
       "      <td>4632</td>\n",
       "      <td>Elisabeth</td>\n",
       "      <td>Manhattan</td>\n",
       "      <td>Harlem</td>\n",
       "      <td>40.80902</td>\n",
       "      <td>-73.94190</td>\n",
       "      <td>Private room</td>\n",
       "      <td>150</td>\n",
       "      <td>3</td>\n",
       "      <td>0</td>\n",
       "      <td>NaN</td>\n",
       "      <td>NaN</td>\n",
       "      <td>1</td>\n",
       "      <td>365</td>\n",
       "    </tr>\n",
       "    <tr>\n",
       "      <th>3</th>\n",
       "      <td>3831</td>\n",
       "      <td>Cozy Entire Floor of Brownstone</td>\n",
       "      <td>4869</td>\n",
       "      <td>LisaRoxanne</td>\n",
       "      <td>Brooklyn</td>\n",
       "      <td>Clinton Hill</td>\n",
       "      <td>40.68514</td>\n",
       "      <td>-73.95976</td>\n",
       "      <td>Entire home/apt</td>\n",
       "      <td>89</td>\n",
       "      <td>1</td>\n",
       "      <td>270</td>\n",
       "      <td>2019-07-05</td>\n",
       "      <td>4.64</td>\n",
       "      <td>1</td>\n",
       "      <td>194</td>\n",
       "    </tr>\n",
       "    <tr>\n",
       "      <th>4</th>\n",
       "      <td>5022</td>\n",
       "      <td>Entire Apt: Spacious Studio/Loft by central park</td>\n",
       "      <td>7192</td>\n",
       "      <td>Laura</td>\n",
       "      <td>Manhattan</td>\n",
       "      <td>East Harlem</td>\n",
       "      <td>40.79851</td>\n",
       "      <td>-73.94399</td>\n",
       "      <td>Entire home/apt</td>\n",
       "      <td>80</td>\n",
       "      <td>10</td>\n",
       "      <td>9</td>\n",
       "      <td>2018-11-19</td>\n",
       "      <td>0.10</td>\n",
       "      <td>1</td>\n",
       "      <td>0</td>\n",
       "    </tr>\n",
       "  </tbody>\n",
       "</table>\n",
       "</div>"
      ],
      "text/plain": [
       "     id                                              name  host_id  \\\n",
       "0  2539                Clean & quiet apt home by the park     2787   \n",
       "1  2595                             Skylit Midtown Castle     2845   \n",
       "2  3647               THE VILLAGE OF HARLEM....NEW YORK !     4632   \n",
       "3  3831                   Cozy Entire Floor of Brownstone     4869   \n",
       "4  5022  Entire Apt: Spacious Studio/Loft by central park     7192   \n",
       "\n",
       "     host_name neighbourhood_group neighbourhood  latitude  longitude  \\\n",
       "0         John            Brooklyn    Kensington  40.64749  -73.97237   \n",
       "1     Jennifer           Manhattan       Midtown  40.75362  -73.98377   \n",
       "2    Elisabeth           Manhattan        Harlem  40.80902  -73.94190   \n",
       "3  LisaRoxanne            Brooklyn  Clinton Hill  40.68514  -73.95976   \n",
       "4        Laura           Manhattan   East Harlem  40.79851  -73.94399   \n",
       "\n",
       "         room_type  price  minimum_nights  number_of_reviews last_review  \\\n",
       "0     Private room    149               1                  9  2018-10-19   \n",
       "1  Entire home/apt    225               1                 45  2019-05-21   \n",
       "2     Private room    150               3                  0         NaN   \n",
       "3  Entire home/apt     89               1                270  2019-07-05   \n",
       "4  Entire home/apt     80              10                  9  2018-11-19   \n",
       "\n",
       "   reviews_per_month  calculated_host_listings_count  availability_365  \n",
       "0               0.21                               6               365  \n",
       "1               0.38                               2               355  \n",
       "2                NaN                               1               365  \n",
       "3               4.64                               1               194  \n",
       "4               0.10                               1                 0  "
      ]
     },
     "execution_count": 169,
     "metadata": {},
     "output_type": "execute_result"
    }
   ],
   "source": [
    "### Seeing first 5 rows\n",
    "df.head(5)"
   ]
  },
  {
   "cell_type": "code",
   "execution_count": 170,
   "metadata": {},
   "outputs": [
    {
     "data": {
      "text/plain": [
       "(48895, 16)"
      ]
     },
     "execution_count": 170,
     "metadata": {},
     "output_type": "execute_result"
    }
   ],
   "source": [
    "### Do a row count\n",
    "df.shape\n",
    "\n",
    "# Answer: 48,895 rows and 16 columns"
   ]
  },
  {
   "cell_type": "code",
   "execution_count": 171,
   "metadata": {},
   "outputs": [
    {
     "data": {
      "text/plain": [
       "Index(['id', 'name', 'host_id', 'host_name', 'neighbourhood_group',\n",
       "       'neighbourhood', 'latitude', 'longitude', 'room_type', 'price',\n",
       "       'minimum_nights', 'number_of_reviews', 'last_review',\n",
       "       'reviews_per_month', 'calculated_host_listings_count',\n",
       "       'availability_365'],\n",
       "      dtype='object')"
      ]
     },
     "execution_count": 171,
     "metadata": {},
     "output_type": "execute_result"
    }
   ],
   "source": [
    "### Checking columns\n",
    "df.columns"
   ]
  },
  {
   "cell_type": "code",
   "execution_count": 172,
   "metadata": {},
   "outputs": [
    {
     "data": {
      "text/plain": [
       "availability_365                  48895\n",
       "calculated_host_listings_count    48895\n",
       "number_of_reviews                 48895\n",
       "minimum_nights                    48895\n",
       "price                             48895\n",
       "room_type                         48895\n",
       "longitude                         48895\n",
       "latitude                          48895\n",
       "neighbourhood                     48895\n",
       "neighbourhood_group               48895\n",
       "host_id                           48895\n",
       "id                                48895\n",
       "name                              48879\n",
       "host_name                         48874\n",
       "reviews_per_month                 38843\n",
       "last_review                       38843\n",
       "dtype: int64"
      ]
     },
     "execution_count": 172,
     "metadata": {},
     "output_type": "execute_result"
    }
   ],
   "source": [
    "### Looking for missing values\n",
    "df.count().sort_values(ascending=False)\n",
    "\n",
    "# Obs: Columns with mising values: name, host_name, reviews_per_month and last_review"
   ]
  },
  {
   "cell_type": "code",
   "execution_count": 173,
   "metadata": {},
   "outputs": [
    {
     "data": {
      "text/html": [
       "<div>\n",
       "<style scoped>\n",
       "    .dataframe tbody tr th:only-of-type {\n",
       "        vertical-align: middle;\n",
       "    }\n",
       "\n",
       "    .dataframe tbody tr th {\n",
       "        vertical-align: top;\n",
       "    }\n",
       "\n",
       "    .dataframe thead th {\n",
       "        text-align: right;\n",
       "    }\n",
       "</style>\n",
       "<table border=\"1\" class=\"dataframe\">\n",
       "  <thead>\n",
       "    <tr style=\"text-align: right;\">\n",
       "      <th></th>\n",
       "      <th>name</th>\n",
       "      <th>host_name</th>\n",
       "      <th>reviews_per_month</th>\n",
       "      <th>last_review</th>\n",
       "    </tr>\n",
       "  </thead>\n",
       "  <tbody>\n",
       "    <tr>\n",
       "      <th>0</th>\n",
       "      <td>Clean &amp; quiet apt home by the park</td>\n",
       "      <td>John</td>\n",
       "      <td>0.21</td>\n",
       "      <td>2018-10-19</td>\n",
       "    </tr>\n",
       "    <tr>\n",
       "      <th>1</th>\n",
       "      <td>Skylit Midtown Castle</td>\n",
       "      <td>Jennifer</td>\n",
       "      <td>0.38</td>\n",
       "      <td>2019-05-21</td>\n",
       "    </tr>\n",
       "    <tr>\n",
       "      <th>2</th>\n",
       "      <td>THE VILLAGE OF HARLEM....NEW YORK !</td>\n",
       "      <td>Elisabeth</td>\n",
       "      <td>NaN</td>\n",
       "      <td>NaN</td>\n",
       "    </tr>\n",
       "    <tr>\n",
       "      <th>3</th>\n",
       "      <td>Cozy Entire Floor of Brownstone</td>\n",
       "      <td>LisaRoxanne</td>\n",
       "      <td>4.64</td>\n",
       "      <td>2019-07-05</td>\n",
       "    </tr>\n",
       "    <tr>\n",
       "      <th>4</th>\n",
       "      <td>Entire Apt: Spacious Studio/Loft by central park</td>\n",
       "      <td>Laura</td>\n",
       "      <td>0.10</td>\n",
       "      <td>2018-11-19</td>\n",
       "    </tr>\n",
       "    <tr>\n",
       "      <th>...</th>\n",
       "      <td>...</td>\n",
       "      <td>...</td>\n",
       "      <td>...</td>\n",
       "      <td>...</td>\n",
       "    </tr>\n",
       "    <tr>\n",
       "      <th>48890</th>\n",
       "      <td>Charming one bedroom - newly renovated rowhouse</td>\n",
       "      <td>Sabrina</td>\n",
       "      <td>NaN</td>\n",
       "      <td>NaN</td>\n",
       "    </tr>\n",
       "    <tr>\n",
       "      <th>48891</th>\n",
       "      <td>Affordable room in Bushwick/East Williamsburg</td>\n",
       "      <td>Marisol</td>\n",
       "      <td>NaN</td>\n",
       "      <td>NaN</td>\n",
       "    </tr>\n",
       "    <tr>\n",
       "      <th>48892</th>\n",
       "      <td>Sunny Studio at Historical Neighborhood</td>\n",
       "      <td>Ilgar &amp; Aysel</td>\n",
       "      <td>NaN</td>\n",
       "      <td>NaN</td>\n",
       "    </tr>\n",
       "    <tr>\n",
       "      <th>48893</th>\n",
       "      <td>43rd St. Time Square-cozy single bed</td>\n",
       "      <td>Taz</td>\n",
       "      <td>NaN</td>\n",
       "      <td>NaN</td>\n",
       "    </tr>\n",
       "    <tr>\n",
       "      <th>48894</th>\n",
       "      <td>Trendy duplex in the very heart of Hell's Kitchen</td>\n",
       "      <td>Christophe</td>\n",
       "      <td>NaN</td>\n",
       "      <td>NaN</td>\n",
       "    </tr>\n",
       "  </tbody>\n",
       "</table>\n",
       "<p>48895 rows × 4 columns</p>\n",
       "</div>"
      ],
      "text/plain": [
       "                                                    name      host_name  \\\n",
       "0                     Clean & quiet apt home by the park           John   \n",
       "1                                  Skylit Midtown Castle       Jennifer   \n",
       "2                    THE VILLAGE OF HARLEM....NEW YORK !      Elisabeth   \n",
       "3                        Cozy Entire Floor of Brownstone    LisaRoxanne   \n",
       "4       Entire Apt: Spacious Studio/Loft by central park          Laura   \n",
       "...                                                  ...            ...   \n",
       "48890    Charming one bedroom - newly renovated rowhouse        Sabrina   \n",
       "48891      Affordable room in Bushwick/East Williamsburg        Marisol   \n",
       "48892            Sunny Studio at Historical Neighborhood  Ilgar & Aysel   \n",
       "48893               43rd St. Time Square-cozy single bed            Taz   \n",
       "48894  Trendy duplex in the very heart of Hell's Kitchen     Christophe   \n",
       "\n",
       "       reviews_per_month last_review  \n",
       "0                   0.21  2018-10-19  \n",
       "1                   0.38  2019-05-21  \n",
       "2                    NaN         NaN  \n",
       "3                   4.64  2019-07-05  \n",
       "4                   0.10  2018-11-19  \n",
       "...                  ...         ...  \n",
       "48890                NaN         NaN  \n",
       "48891                NaN         NaN  \n",
       "48892                NaN         NaN  \n",
       "48893                NaN         NaN  \n",
       "48894                NaN         NaN  \n",
       "\n",
       "[48895 rows x 4 columns]"
      ]
     },
     "execution_count": 173,
     "metadata": {},
     "output_type": "execute_result"
    }
   ],
   "source": [
    "### Checking missing columns\n",
    "df[['name', 'host_name', 'reviews_per_month', 'last_review']]"
   ]
  },
  {
   "cell_type": "code",
   "execution_count": 174,
   "metadata": {},
   "outputs": [],
   "source": [
    "### Replacing missing values\n",
    "\n",
    "# Categorical columns\n",
    "for col in ['name', 'host_name', 'last_review']:\n",
    "    df[col] = df[col].fillna('0')\n",
    "\n",
    "# Numerical column\n",
    "df['reviews_per_month'] = df['reviews_per_month'].fillna(df['reviews_per_month'].mean())"
   ]
  },
  {
   "cell_type": "markdown",
   "metadata": {},
   "source": [
    "Obs: We decided to input the mean value for reviews by month because it is the simplest approach."
   ]
  },
  {
   "cell_type": "code",
   "execution_count": 175,
   "metadata": {},
   "outputs": [
    {
     "data": {
      "text/plain": [
       "array([2.10000000e-01, 3.80000000e-01, 1.37322143e+00, 4.64000000e+00,\n",
       "       1.00000000e-01, 5.90000000e-01, 4.00000000e-01, 3.47000000e+00,\n",
       "       9.90000000e-01, 1.33000000e+00, 4.30000000e-01, 1.50000000e+00,\n",
       "       1.34000000e+00, 9.10000000e-01, 2.20000000e-01, 1.20000000e+00,\n",
       "       1.72000000e+00, 2.12000000e+00, 4.44000000e+00, 7.00000000e-02,\n",
       "       1.09000000e+00, 3.70000000e-01, 6.10000000e-01, 7.30000000e-01,\n",
       "       1.37000000e+00, 4.90000000e-01, 1.11000000e+00, 2.40000000e-01,\n",
       "       2.04000000e+00, 1.42000000e+00, 1.65000000e+00, 2.37000000e+00,\n",
       "       6.60000000e-01, 1.41000000e+00, 1.96000000e+00, 1.81000000e+00,\n",
       "       2.08000000e+00, 3.90000000e-01, 2.30000000e-01, 6.90000000e-01,\n",
       "       8.40000000e-01, 2.25000000e+00, 5.20000000e-01, 1.16000000e+00,\n",
       "       1.01000000e+00, 6.30000000e-01, 7.00000000e-01, 2.82000000e+00,\n",
       "       9.00000000e-01, 1.70000000e-01, 2.49000000e+00, 1.19000000e+00,\n",
       "       3.00000000e-01, 1.20000000e-01, 5.70000000e-01, 1.60000000e-01,\n",
       "       4.72000000e+00, 1.40000000e+00, 1.26000000e+00, 1.64000000e+00,\n",
       "       1.60000000e+00, 9.20000000e-01, 2.00000000e-01, 1.28000000e+00,\n",
       "       5.40000000e-01, 6.20000000e-01, 1.50000000e-01, 5.30000000e-01,\n",
       "       1.73000000e+00, 5.00000000e-02, 1.54000000e+00, 2.80000000e-01,\n",
       "       3.40000000e+00, 1.57000000e+00, 1.05000000e+00, 7.10000000e-01,\n",
       "       1.10000000e-01, 2.70000000e-01, 1.23000000e+00, 8.70000000e-01,\n",
       "       2.09000000e+00, 6.00000000e-01, 5.50000000e-01, 3.02000000e+00,\n",
       "       7.90000000e-01, 1.46000000e+00, 1.61000000e+00, 3.00000000e+00,\n",
       "       1.30000000e-01, 4.22000000e+00, 6.00000000e-02, 3.01000000e+00,\n",
       "       3.20000000e+00, 2.03000000e+00, 8.00000000e-02, 1.90000000e-01,\n",
       "       3.30000000e-01, 5.80000000e-01, 2.35000000e+00, 1.86000000e+00,\n",
       "       2.90000000e-01, 4.50000000e-01, 2.50000000e-01, 2.00000000e-02,\n",
       "       3.89000000e+00, 7.70000000e-01, 3.00000000e-02, 4.00000000e-02,\n",
       "       1.00000000e-02, 2.19000000e+00, 7.40000000e-01, 9.00000000e-02,\n",
       "       3.20000000e-01, 1.24000000e+00, 2.60000000e+00, 2.60000000e-01,\n",
       "       2.86000000e+00, 2.17000000e+00, 1.66000000e+00, 9.40000000e-01,\n",
       "       1.78000000e+00, 7.80000000e-01, 1.06000000e+00, 2.00000000e+00,\n",
       "       8.00000000e-01, 7.50000000e-01, 3.60000000e-01, 1.79000000e+00,\n",
       "       1.92000000e+00, 1.18000000e+00, 5.00000000e-01, 1.17000000e+00,\n",
       "       4.80000000e-01, 1.85000000e+00, 1.04000000e+00, 1.43000000e+00,\n",
       "       2.69000000e+00, 3.52000000e+00, 3.10000000e-01, 3.44000000e+00,\n",
       "       1.00000000e+00, 1.45000000e+00, 3.04000000e+00, 1.22000000e+00,\n",
       "       1.13000000e+00, 3.50000000e-01, 6.50000000e-01, 1.84000000e+00,\n",
       "       9.60000000e-01, 2.10000000e+00, 4.58000000e+00, 6.70000000e-01,\n",
       "       1.80000000e-01, 1.83000000e+00, 1.82000000e+00, 1.30000000e+00,\n",
       "       3.40000000e-01, 2.21000000e+00, 1.80000000e+00, 2.30000000e+00,\n",
       "       2.13000000e+00, 1.44000000e+00, 1.71000000e+00, 1.77000000e+00,\n",
       "       3.19000000e+00, 4.50000000e+00, 4.60000000e-01, 2.39000000e+00,\n",
       "       1.38000000e+00, 4.10000000e-01, 1.40000000e-01, 3.55000000e+00,\n",
       "       2.27000000e+00, 1.27000000e+00, 1.31000000e+00, 1.87000000e+00,\n",
       "       5.60000000e-01, 9.30000000e-01, 6.80000000e-01, 1.25000000e+00,\n",
       "       1.88000000e+00, 4.20000000e-01, 4.40000000e-01, 2.01000000e+00,\n",
       "       2.81000000e+00, 3.97000000e+00, 7.60000000e-01, 5.10000000e-01,\n",
       "       8.50000000e-01, 2.40000000e+00, 1.07000000e+00, 3.88000000e+00,\n",
       "       2.22000000e+00, 1.51000000e+00, 2.26000000e+00, 1.21000000e+00,\n",
       "       3.74000000e+00, 1.76000000e+00, 1.68000000e+00, 3.83000000e+00,\n",
       "       2.53000000e+00, 2.51000000e+00, 3.23000000e+00, 4.10000000e+00,\n",
       "       1.55000000e+00, 2.41000000e+00, 7.20000000e-01, 8.60000000e-01,\n",
       "       2.18000000e+00, 4.34000000e+00, 2.14000000e+00, 4.00000000e+00,\n",
       "       1.08000000e+00, 2.33000000e+00, 2.31000000e+00, 2.92000000e+00,\n",
       "       8.90000000e-01, 1.94000000e+00, 6.70000000e+00, 4.70000000e-01,\n",
       "       4.60000000e+00, 9.50000000e-01, 2.84000000e+00, 1.97000000e+00,\n",
       "       2.02000000e+00, 6.62000000e+00, 9.70000000e-01, 1.29000000e+00,\n",
       "       3.90000000e+00, 2.85000000e+00, 1.62000000e+00, 7.14000000e+00,\n",
       "       2.70000000e+00, 2.90000000e+00, 1.63000000e+00, 2.47000000e+00,\n",
       "       6.40000000e-01, 2.95000000e+00, 1.15000000e+00, 3.24000000e+00,\n",
       "       1.52000000e+00, 8.80000000e-01, 1.36000000e+00, 1.59000000e+00,\n",
       "       1.32000000e+00, 2.59000000e+00, 2.45000000e+00, 1.89000000e+00,\n",
       "       9.80000000e-01, 2.65000000e+00, 2.50000000e+00, 2.83000000e+00,\n",
       "       3.45000000e+00, 1.02000000e+00, 2.74000000e+00, 1.75000000e+00,\n",
       "       2.32000000e+00, 2.38000000e+00, 2.52000000e+00, 1.10000000e+00,\n",
       "       8.20000000e-01, 1.12000000e+00, 1.69000000e+00, 1.39000000e+00,\n",
       "       2.44000000e+00, 2.29000000e+00, 8.10000000e-01, 2.42000000e+00,\n",
       "       3.60000000e+00, 3.37000000e+00, 2.11000000e+00, 2.99000000e+00,\n",
       "       1.47000000e+00, 1.49000000e+00, 3.18000000e+00, 3.09000000e+00,\n",
       "       2.75000000e+00, 1.53000000e+00, 1.14000000e+00, 3.30000000e+00,\n",
       "       1.35000000e+00, 3.15000000e+00, 2.06000000e+00, 2.15000000e+00,\n",
       "       5.27000000e+00, 8.30000000e-01, 5.12000000e+00, 1.56000000e+00,\n",
       "       3.78000000e+00, 2.63000000e+00, 2.54000000e+00, 3.51000000e+00,\n",
       "       5.26000000e+00, 3.85000000e+00, 2.20000000e+00, 3.17000000e+00,\n",
       "       1.03000000e+00, 3.70000000e+00, 5.53000000e+00, 2.55000000e+00,\n",
       "       1.91000000e+00, 4.14000000e+00, 1.95000000e+00, 3.93000000e+00,\n",
       "       1.90000000e+00, 1.99000000e+00, 3.05000000e+00, 3.16000000e+00,\n",
       "       3.53000000e+00, 4.24000000e+00, 2.57000000e+00, 1.98000000e+00,\n",
       "       3.92000000e+00, 3.59000000e+00, 3.56000000e+00, 2.89000000e+00,\n",
       "       4.90000000e+00, 3.96000000e+00, 4.55000000e+00, 2.07000000e+00,\n",
       "       1.93000000e+00, 1.67000000e+00, 1.70000000e+00, 4.01000000e+00,\n",
       "       1.00000000e+01, 2.96000000e+00, 3.35000000e+00, 2.68000000e+00,\n",
       "       3.34000000e+00, 4.16000000e+00, 2.62000000e+00, 4.33000000e+00,\n",
       "       2.79000000e+00, 3.07000000e+00, 4.18000000e+00, 2.34000000e+00,\n",
       "       3.58000000e+00, 4.46000000e+00, 6.95000000e+00, 2.91000000e+00,\n",
       "       2.97000000e+00, 2.36000000e+00, 3.69000000e+00, 4.03000000e+00,\n",
       "       4.09000000e+00, 7.57000000e+00, 7.72000000e+00, 7.75000000e+00,\n",
       "       5.39000000e+00, 3.08000000e+00, 4.30000000e+00, 5.16000000e+00,\n",
       "       3.68000000e+00, 2.46000000e+00, 5.89000000e+00, 1.74000000e+00,\n",
       "       3.14000000e+00, 4.79000000e+00, 2.72000000e+00, 3.22000000e+00,\n",
       "       3.27000000e+00, 3.12000000e+00, 4.73000000e+00, 4.11000000e+00,\n",
       "       2.61000000e+00, 3.80000000e+00, 2.66000000e+00, 3.66000000e+00,\n",
       "       3.87000000e+00, 2.87000000e+00, 5.06000000e+00, 2.67000000e+00,\n",
       "       3.31000000e+00, 2.24000000e+00, 2.23000000e+00, 4.51000000e+00,\n",
       "       3.41000000e+00, 4.67000000e+00, 5.68000000e+00, 3.10000000e+00,\n",
       "       2.78000000e+00, 5.40000000e+00, 4.54000000e+00, 2.64000000e+00,\n",
       "       2.05000000e+00, 2.80000000e+00, 3.28000000e+00, 4.02000000e+00,\n",
       "       3.11000000e+00, 3.32000000e+00, 4.62000000e+00, 3.49000000e+00,\n",
       "       4.43000000e+00, 3.94000000e+00, 3.50000000e+00, 1.58000000e+00,\n",
       "       3.39000000e+00, 6.30000000e+00, 2.77000000e+00, 4.83000000e+00,\n",
       "       8.52000000e+00, 3.63000000e+00, 4.49000000e+00, 3.46000000e+00,\n",
       "       4.71000000e+00, 3.61000000e+00, 3.36000000e+00, 3.82000000e+00,\n",
       "       3.25000000e+00, 3.13000000e+00, 2.98000000e+00, 3.42000000e+00,\n",
       "       3.38000000e+00, 3.29000000e+00, 4.82000000e+00, 3.03000000e+00,\n",
       "       4.32000000e+00, 3.33000000e+00, 4.29000000e+00, 4.91000000e+00,\n",
       "       4.31000000e+00, 1.48000000e+00, 2.93000000e+00, 2.71000000e+00,\n",
       "       2.43000000e+00, 3.62000000e+00, 2.28000000e+00, 4.27000000e+00,\n",
       "       5.20000000e+00, 4.20000000e+00, 5.54000000e+00, 4.05000000e+00,\n",
       "       3.67000000e+00, 4.07000000e+00, 5.81000000e+00, 3.26000000e+00,\n",
       "       4.84000000e+00, 4.57000000e+00, 3.06000000e+00, 3.72000000e+00,\n",
       "       4.36000000e+00, 4.69000000e+00, 3.54000000e+00, 2.88000000e+00,\n",
       "       4.21000000e+00, 3.95000000e+00, 2.73000000e+00, 8.14000000e+00,\n",
       "       3.48000000e+00, 3.79000000e+00, 5.57000000e+00, 4.12000000e+00,\n",
       "       5.96000000e+00, 4.95000000e+00, 2.48000000e+00, 6.51000000e+00,\n",
       "       4.63000000e+00, 6.23000000e+00, 5.04000000e+00, 5.46000000e+00,\n",
       "       4.37000000e+00, 5.03000000e+00, 6.76000000e+00, 4.99000000e+00,\n",
       "       5.00000000e+00, 2.76000000e+00, 2.58000000e+00, 4.13000000e+00,\n",
       "       3.76000000e+00, 5.02000000e+00, 3.64000000e+00, 3.99000000e+00,\n",
       "       6.79000000e+00, 6.19000000e+00, 2.56000000e+00, 6.22000000e+00,\n",
       "       3.91000000e+00, 6.05000000e+00, 5.60000000e+00, 6.10000000e+00,\n",
       "       6.09000000e+00, 4.66000000e+00, 2.94000000e+00, 4.15000000e+00,\n",
       "       5.90000000e+00, 6.31000000e+00, 7.53000000e+00, 3.81000000e+00,\n",
       "       3.21000000e+00, 4.40000000e+00, 8.21000000e+00, 4.65000000e+00,\n",
       "       5.78000000e+00, 3.43000000e+00, 5.44000000e+00, 4.45000000e+00,\n",
       "       5.66000000e+00, 1.34500000e+01, 2.16000000e+00, 3.86000000e+00,\n",
       "       6.77000000e+00, 4.08000000e+00, 4.39000000e+00, 4.38000000e+00,\n",
       "       3.75000000e+00, 5.51000000e+00, 4.42000000e+00, 5.72000000e+00,\n",
       "       7.71000000e+00, 5.29000000e+00, 9.16000000e+00, 5.17000000e+00,\n",
       "       5.92000000e+00, 4.87000000e+00, 7.97000000e+00, 4.94000000e+00,\n",
       "       8.82000000e+00, 3.71000000e+00, 4.59000000e+00, 4.48000000e+00,\n",
       "       5.28000000e+00, 3.57000000e+00, 4.85000000e+00, 3.65000000e+00,\n",
       "       4.70000000e+00, 5.37000000e+00, 4.26000000e+00, 9.63000000e+00,\n",
       "       4.56000000e+00, 5.41000000e+00, 5.13000000e+00, 5.45000000e+00,\n",
       "       5.09000000e+00, 8.86000000e+00, 8.56000000e+00, 4.19000000e+00,\n",
       "       4.17000000e+00, 6.61000000e+00, 4.78000000e+00, 5.36000000e+00,\n",
       "       7.31000000e+00, 6.37000000e+00, 6.26000000e+00, 7.07000000e+00,\n",
       "       4.98000000e+00, 1.15900000e+01, 4.06000000e+00, 4.35000000e+00,\n",
       "       4.53000000e+00, 4.68000000e+00, 5.42000000e+00, 5.98000000e+00,\n",
       "       5.22000000e+00, 5.61000000e+00, 4.23000000e+00, 6.46000000e+00,\n",
       "       5.65000000e+00, 5.85000000e+00, 5.59000000e+00, 5.94000000e+00,\n",
       "       5.11000000e+00, 5.18000000e+00, 1.45800000e+01, 4.47000000e+00,\n",
       "       4.77000000e+00, 6.57000000e+00, 4.89000000e+00, 6.12000000e+00,\n",
       "       4.80000000e+00, 5.62000000e+00, 3.98000000e+00, 6.25000000e+00,\n",
       "       5.95000000e+00, 1.34000000e+01, 5.49000000e+00, 1.07200000e+01,\n",
       "       5.25000000e+00, 4.04000000e+00, 5.34000000e+00, 4.76000000e+00,\n",
       "       3.77000000e+00, 5.87000000e+00, 5.01000000e+00, 6.08000000e+00,\n",
       "       5.83000000e+00, 4.52000000e+00, 9.26000000e+00, 5.08000000e+00,\n",
       "       7.38000000e+00, 1.01900000e+01, 6.78000000e+00, 6.02000000e+00,\n",
       "       5.07000000e+00, 5.71000000e+00, 4.61000000e+00, 6.38000000e+00,\n",
       "       4.25000000e+00, 9.67000000e+00, 5.97000000e+00, 3.84000000e+00,\n",
       "       4.81000000e+00, 6.68000000e+00, 6.15000000e+00, 5.24000000e+00,\n",
       "       4.74000000e+00, 4.86000000e+00, 7.45000000e+00, 5.15000000e+00,\n",
       "       5.14000000e+00, 3.73000000e+00, 4.88000000e+00, 6.00000000e+00,\n",
       "       6.74000000e+00, 5.79000000e+00, 9.61000000e+00, 9.30000000e+00,\n",
       "       6.36000000e+00, 1.14000000e+01, 7.10000000e+00, 5.30000000e+00,\n",
       "       5.63000000e+00, 5.43000000e+00, 9.24000000e+00, 4.75000000e+00,\n",
       "       4.93000000e+00, 6.07000000e+00, 9.39000000e+00, 1.28400000e+01,\n",
       "       6.91000000e+00, 5.21000000e+00, 5.88000000e+00, 6.13000000e+00,\n",
       "       4.41000000e+00, 5.47000000e+00, 6.35000000e+00, 6.40000000e+00,\n",
       "       6.97000000e+00, 6.71000000e+00, 6.55000000e+00, 6.01000000e+00,\n",
       "       6.64000000e+00, 6.54000000e+00, 6.45000000e+00, 6.90000000e+00,\n",
       "       7.28000000e+00, 5.69000000e+00, 8.18000000e+00, 9.83000000e+00,\n",
       "       1.62200000e+01, 5.75000000e+00, 1.06400000e+01, 8.17000000e+00,\n",
       "       9.82000000e+00, 5.31000000e+00, 5.35000000e+00, 8.33000000e+00,\n",
       "       8.79000000e+00, 7.23000000e+00, 4.96000000e+00, 1.31500000e+01,\n",
       "       5.32000000e+00, 7.18000000e+00, 1.43600000e+01, 9.66000000e+00,\n",
       "       6.17000000e+00, 6.03000000e+00, 5.70000000e+00, 5.23000000e+00,\n",
       "       1.34800000e+01, 1.19100000e+01, 5.19000000e+00, 8.58000000e+00,\n",
       "       5.74000000e+00, 4.28000000e+00, 1.06000000e+01, 7.96000000e+00,\n",
       "       1.17200000e+01, 6.65000000e+00, 1.32400000e+01, 7.00000000e+00,\n",
       "       8.07000000e+00, 5.58000000e+00, 7.12000000e+00, 6.92000000e+00,\n",
       "       1.60300000e+01, 5.05000000e+00, 7.04000000e+00, 5.84000000e+00,\n",
       "       1.03400000e+01, 5.33000000e+00, 7.05000000e+00, 7.84000000e+00,\n",
       "       7.66000000e+00, 7.79000000e+00, 5.99000000e+00, 5.82000000e+00,\n",
       "       8.16000000e+00, 5.91000000e+00, 5.77000000e+00, 1.15600000e+01,\n",
       "       7.64000000e+00, 5.55000000e+00, 7.65000000e+00, 5.73000000e+00,\n",
       "       5.86000000e+00, 7.27000000e+00, 6.59000000e+00, 1.32700000e+01,\n",
       "       4.97000000e+00, 7.76000000e+00, 6.21000000e+00, 6.60000000e+00,\n",
       "       6.58000000e+00, 5.76000000e+00, 7.50000000e+00, 6.18000000e+00,\n",
       "       6.27000000e+00, 6.44000000e+00, 6.87000000e+00, 8.75000000e+00,\n",
       "       8.95000000e+00, 5.48000000e+00, 7.33000000e+00, 5.38000000e+00,\n",
       "       1.03900000e+01, 7.43000000e+00, 7.19000000e+00, 1.29900000e+01,\n",
       "       8.87000000e+00, 5.80000000e+00, 5.50000000e+00, 1.97500000e+01,\n",
       "       6.29000000e+00, 9.41000000e+00, 1.25400000e+01, 7.24000000e+00,\n",
       "       1.02800000e+01, 1.03800000e+01, 8.92000000e+00, 8.24000000e+00,\n",
       "       1.08600000e+01, 7.90000000e+00, 8.57000000e+00, 1.01500000e+01,\n",
       "       8.74000000e+00, 5.67000000e+00, 5.10000000e+00, 8.43000000e+00,\n",
       "       1.78200000e+01, 6.80000000e+00, 8.68000000e+00, 7.39000000e+00,\n",
       "       7.47000000e+00, 1.11700000e+01, 6.94000000e+00, 1.68100000e+01,\n",
       "       7.67000000e+00, 7.87000000e+00, 7.55000000e+00, 5.56000000e+00,\n",
       "       9.53000000e+00, 8.27000000e+00, 6.11000000e+00, 7.98000000e+00,\n",
       "       8.06000000e+00, 6.56000000e+00, 7.03000000e+00, 6.73000000e+00,\n",
       "       6.96000000e+00, 6.42000000e+00, 8.32000000e+00, 5.93000000e+00,\n",
       "       6.34000000e+00, 7.08000000e+00, 9.74000000e+00, 9.13000000e+00,\n",
       "       6.06000000e+00, 8.25000000e+00, 8.38000000e+00, 9.43000000e+00,\n",
       "       7.20000000e+00, 7.77000000e+00, 7.69000000e+00, 7.59000000e+00,\n",
       "       7.13000000e+00, 4.92000000e+00, 9.97000000e+00, 9.47000000e+00,\n",
       "       6.24000000e+00, 5.52000000e+00, 7.94000000e+00, 8.93000000e+00,\n",
       "       7.26000000e+00, 7.32000000e+00, 1.16800000e+01, 5.64000000e+00,\n",
       "       8.69000000e+00, 7.01000000e+00, 8.00000000e+00, 6.28000000e+00,\n",
       "       7.92000000e+00, 9.17000000e+00, 8.64000000e+00, 6.20000000e+00,\n",
       "       6.48000000e+00, 1.20500000e+01, 7.34000000e+00, 6.99000000e+00,\n",
       "       7.70000000e+00, 6.04000000e+00, 1.07700000e+01, 7.61000000e+00,\n",
       "       1.01200000e+01, 8.84000000e+00, 8.29000000e+00, 9.34000000e+00,\n",
       "       7.56000000e+00, 6.50000000e+00, 7.21000000e+00, 6.84000000e+00,\n",
       "       9.36000000e+00, 7.58000000e+00, 8.31000000e+00, 8.02000000e+00,\n",
       "       8.72000000e+00, 8.40000000e+00, 7.42000000e+00, 1.57800000e+01,\n",
       "       7.99000000e+00, 9.58000000e+00, 8.97000000e+00, 6.86000000e+00,\n",
       "       8.62000000e+00, 6.41000000e+00, 7.41000000e+00, 6.72000000e+00,\n",
       "       1.31100000e+01, 6.14000000e+00, 7.25000000e+00, 6.43000000e+00,\n",
       "       8.35000000e+00, 1.10300000e+01, 7.83000000e+00, 1.02900000e+01,\n",
       "       9.09000000e+00, 6.32000000e+00, 6.67000000e+00, 8.99000000e+00,\n",
       "       9.62000000e+00, 6.75000000e+00, 1.06700000e+01, 7.60000000e+00,\n",
       "       8.44000000e+00, 9.12000000e+00, 8.51000000e+00, 7.91000000e+00,\n",
       "       2.09400000e+01, 6.88000000e+00, 6.83000000e+00, 9.15000000e+00,\n",
       "       7.11000000e+00, 9.50000000e+00, 9.29000000e+00, 9.64000000e+00,\n",
       "       1.00500000e+01, 9.03000000e+00, 1.33000000e+01, 1.52300000e+01,\n",
       "       9.08000000e+00, 1.13800000e+01, 7.36000000e+00, 8.11000000e+00,\n",
       "       9.33000000e+00, 1.53200000e+01, 7.89000000e+00, 8.47000000e+00,\n",
       "       8.03000000e+00, 9.56000000e+00, 8.50000000e+00, 1.03600000e+01,\n",
       "       9.93000000e+00, 9.10000000e+00, 9.23000000e+00, 6.39000000e+00,\n",
       "       8.45000000e+00, 8.48000000e+00, 9.68000000e+00, 6.49000000e+00,\n",
       "       7.17000000e+00, 1.31300000e+01, 9.85000000e+00, 5.85000000e+01,\n",
       "       2.79500000e+01, 1.46200000e+01, 6.69000000e+00, 8.37000000e+00,\n",
       "       6.63000000e+00, 7.88000000e+00, 7.85000000e+00, 7.30000000e+00,\n",
       "       7.02000000e+00, 7.22000000e+00, 7.29000000e+00, 1.03700000e+01,\n",
       "       9.21000000e+00, 6.47000000e+00, 1.21200000e+01, 6.53000000e+00,\n",
       "       1.12100000e+01, 6.52000000e+00, 9.07000000e+00, 8.94000000e+00,\n",
       "       1.20000000e+01, 6.82000000e+00, 8.73000000e+00, 9.40000000e+00,\n",
       "       1.01700000e+01, 1.12500000e+01, 7.16000000e+00, 1.33300000e+01,\n",
       "       1.05600000e+01, 7.06000000e+00, 9.00000000e+00, 1.03100000e+01,\n",
       "       1.40000000e+01, 7.63000000e+00, 1.21100000e+01, 1.18400000e+01,\n",
       "       1.11400000e+01, 1.11600000e+01, 9.78000000e+00, 1.34200000e+01,\n",
       "       1.02300000e+01, 7.86000000e+00, 1.17100000e+01, 9.73000000e+00,\n",
       "       1.09100000e+01, 1.05400000e+01])"
      ]
     },
     "execution_count": 175,
     "metadata": {},
     "output_type": "execute_result"
    }
   ],
   "source": [
    "### Checking unique values\n",
    "df['reviews_per_month'].unique()"
   ]
  },
  {
   "cell_type": "code",
   "execution_count": 176,
   "metadata": {},
   "outputs": [
    {
     "data": {
      "text/plain": [
       "id                                48895\n",
       "name                              48895\n",
       "host_id                           48895\n",
       "host_name                         48895\n",
       "neighbourhood_group               48895\n",
       "neighbourhood                     48895\n",
       "latitude                          48895\n",
       "longitude                         48895\n",
       "room_type                         48895\n",
       "price                             48895\n",
       "minimum_nights                    48895\n",
       "number_of_reviews                 48895\n",
       "last_review                       48895\n",
       "reviews_per_month                 48895\n",
       "calculated_host_listings_count    48895\n",
       "availability_365                  48895\n",
       "dtype: int64"
      ]
     },
     "execution_count": 176,
     "metadata": {},
     "output_type": "execute_result"
    }
   ],
   "source": [
    "### Doing a count after replacing missing values\n",
    "df.count()"
   ]
  },
  {
   "cell_type": "code",
   "execution_count": 177,
   "metadata": {},
   "outputs": [],
   "source": [
    "### Dropping multiple columns\n",
    "df = df.drop(['last_review', 'calculated_host_listings_count', 'availability_365'], axis=1)"
   ]
  },
  {
   "cell_type": "code",
   "execution_count": 178,
   "metadata": {},
   "outputs": [
    {
     "data": {
      "text/html": [
       "<div>\n",
       "<style scoped>\n",
       "    .dataframe tbody tr th:only-of-type {\n",
       "        vertical-align: middle;\n",
       "    }\n",
       "\n",
       "    .dataframe tbody tr th {\n",
       "        vertical-align: top;\n",
       "    }\n",
       "\n",
       "    .dataframe thead th {\n",
       "        text-align: right;\n",
       "    }\n",
       "</style>\n",
       "<table border=\"1\" class=\"dataframe\">\n",
       "  <thead>\n",
       "    <tr style=\"text-align: right;\">\n",
       "      <th></th>\n",
       "      <th>id</th>\n",
       "      <th>host_id</th>\n",
       "      <th>latitude</th>\n",
       "      <th>longitude</th>\n",
       "      <th>price</th>\n",
       "      <th>minimum_nights</th>\n",
       "      <th>number_of_reviews</th>\n",
       "      <th>reviews_per_month</th>\n",
       "    </tr>\n",
       "  </thead>\n",
       "  <tbody>\n",
       "    <tr>\n",
       "      <th>count</th>\n",
       "      <td>4.889500e+04</td>\n",
       "      <td>4.889500e+04</td>\n",
       "      <td>48895.000000</td>\n",
       "      <td>48895.000000</td>\n",
       "      <td>48895.000000</td>\n",
       "      <td>48895.000000</td>\n",
       "      <td>48895.000000</td>\n",
       "      <td>48895.000000</td>\n",
       "    </tr>\n",
       "    <tr>\n",
       "      <th>mean</th>\n",
       "      <td>1.901714e+07</td>\n",
       "      <td>6.762001e+07</td>\n",
       "      <td>40.728949</td>\n",
       "      <td>-73.952170</td>\n",
       "      <td>152.720687</td>\n",
       "      <td>7.029962</td>\n",
       "      <td>23.274466</td>\n",
       "      <td>1.373221</td>\n",
       "    </tr>\n",
       "    <tr>\n",
       "      <th>std</th>\n",
       "      <td>1.098311e+07</td>\n",
       "      <td>7.861097e+07</td>\n",
       "      <td>0.054530</td>\n",
       "      <td>0.046157</td>\n",
       "      <td>240.154170</td>\n",
       "      <td>20.510550</td>\n",
       "      <td>44.550582</td>\n",
       "      <td>1.497775</td>\n",
       "    </tr>\n",
       "    <tr>\n",
       "      <th>min</th>\n",
       "      <td>2.539000e+03</td>\n",
       "      <td>2.438000e+03</td>\n",
       "      <td>40.499790</td>\n",
       "      <td>-74.244420</td>\n",
       "      <td>0.000000</td>\n",
       "      <td>1.000000</td>\n",
       "      <td>0.000000</td>\n",
       "      <td>0.010000</td>\n",
       "    </tr>\n",
       "    <tr>\n",
       "      <th>25%</th>\n",
       "      <td>9.471945e+06</td>\n",
       "      <td>7.822033e+06</td>\n",
       "      <td>40.690100</td>\n",
       "      <td>-73.983070</td>\n",
       "      <td>69.000000</td>\n",
       "      <td>1.000000</td>\n",
       "      <td>1.000000</td>\n",
       "      <td>0.280000</td>\n",
       "    </tr>\n",
       "    <tr>\n",
       "      <th>50%</th>\n",
       "      <td>1.967728e+07</td>\n",
       "      <td>3.079382e+07</td>\n",
       "      <td>40.723070</td>\n",
       "      <td>-73.955680</td>\n",
       "      <td>106.000000</td>\n",
       "      <td>3.000000</td>\n",
       "      <td>5.000000</td>\n",
       "      <td>1.220000</td>\n",
       "    </tr>\n",
       "    <tr>\n",
       "      <th>75%</th>\n",
       "      <td>2.915218e+07</td>\n",
       "      <td>1.074344e+08</td>\n",
       "      <td>40.763115</td>\n",
       "      <td>-73.936275</td>\n",
       "      <td>175.000000</td>\n",
       "      <td>5.000000</td>\n",
       "      <td>24.000000</td>\n",
       "      <td>1.580000</td>\n",
       "    </tr>\n",
       "    <tr>\n",
       "      <th>max</th>\n",
       "      <td>3.648724e+07</td>\n",
       "      <td>2.743213e+08</td>\n",
       "      <td>40.913060</td>\n",
       "      <td>-73.712990</td>\n",
       "      <td>10000.000000</td>\n",
       "      <td>1250.000000</td>\n",
       "      <td>629.000000</td>\n",
       "      <td>58.500000</td>\n",
       "    </tr>\n",
       "  </tbody>\n",
       "</table>\n",
       "</div>"
      ],
      "text/plain": [
       "                 id       host_id      latitude     longitude         price  \\\n",
       "count  4.889500e+04  4.889500e+04  48895.000000  48895.000000  48895.000000   \n",
       "mean   1.901714e+07  6.762001e+07     40.728949    -73.952170    152.720687   \n",
       "std    1.098311e+07  7.861097e+07      0.054530      0.046157    240.154170   \n",
       "min    2.539000e+03  2.438000e+03     40.499790    -74.244420      0.000000   \n",
       "25%    9.471945e+06  7.822033e+06     40.690100    -73.983070     69.000000   \n",
       "50%    1.967728e+07  3.079382e+07     40.723070    -73.955680    106.000000   \n",
       "75%    2.915218e+07  1.074344e+08     40.763115    -73.936275    175.000000   \n",
       "max    3.648724e+07  2.743213e+08     40.913060    -73.712990  10000.000000   \n",
       "\n",
       "       minimum_nights  number_of_reviews  reviews_per_month  \n",
       "count    48895.000000       48895.000000       48895.000000  \n",
       "mean         7.029962          23.274466           1.373221  \n",
       "std         20.510550          44.550582           1.497775  \n",
       "min          1.000000           0.000000           0.010000  \n",
       "25%          1.000000           1.000000           0.280000  \n",
       "50%          3.000000           5.000000           1.220000  \n",
       "75%          5.000000          24.000000           1.580000  \n",
       "max       1250.000000         629.000000          58.500000  "
      ]
     },
     "execution_count": 178,
     "metadata": {},
     "output_type": "execute_result"
    }
   ],
   "source": [
    "### Checking how the data is distributed\n",
    "df.describe()"
   ]
  },
  {
   "cell_type": "code",
   "execution_count": 179,
   "metadata": {},
   "outputs": [
    {
     "data": {
      "text/plain": [
       "array(['Brooklyn', 'Manhattan', 'Queens', 'Staten Island', 'Bronx'],\n",
       "      dtype=object)"
      ]
     },
     "execution_count": 179,
     "metadata": {},
     "output_type": "execute_result"
    }
   ],
   "source": [
    "### Checking distinct values for a column\n",
    "df['neighbourhood_group'].unique()"
   ]
  },
  {
   "cell_type": "code",
   "execution_count": 180,
   "metadata": {},
   "outputs": [],
   "source": [
    "### Renaming columns\n",
    "df.columns\n",
    "df = df.rename(columns = {'neighbourhood_group':'borough'})"
   ]
  },
  {
   "cell_type": "code",
   "execution_count": 181,
   "metadata": {},
   "outputs": [
    {
     "data": {
      "text/plain": [
       "Index(['id', 'name', 'host_id', 'host_name', 'borough', 'neighbourhood',\n",
       "       'latitude', 'longitude', 'room_type', 'price', 'minimum_nights',\n",
       "       'number_of_reviews', 'reviews_per_month'],\n",
       "      dtype='object')"
      ]
     },
     "execution_count": 181,
     "metadata": {},
     "output_type": "execute_result"
    }
   ],
   "source": [
    "### Checking renamed columns\n",
    "df.columns"
   ]
  },
  {
   "cell_type": "code",
   "execution_count": 182,
   "metadata": {},
   "outputs": [],
   "source": [
    "### Renaming values\n",
    "df['room_type'].unique()\n",
    "df['room_type'] = df['room_type'].replace({'Private room':'Private', 'Shared room': 'Shared'})"
   ]
  },
  {
   "cell_type": "code",
   "execution_count": 183,
   "metadata": {},
   "outputs": [
    {
     "data": {
      "text/plain": [
       "array(['Private', 'Entire home/apt', 'Shared'], dtype=object)"
      ]
     },
     "execution_count": 183,
     "metadata": {},
     "output_type": "execute_result"
    }
   ],
   "source": [
    "### Checking renamed values \n",
    "df['room_type'].unique()"
   ]
  },
  {
   "cell_type": "code",
   "execution_count": 184,
   "metadata": {},
   "outputs": [
    {
     "data": {
      "text/plain": [
       "10000"
      ]
     },
     "execution_count": 184,
     "metadata": {},
     "output_type": "execute_result"
    }
   ],
   "source": [
    "### Checking the hightest and lowest price\n",
    "df['price'].max()"
   ]
  },
  {
   "cell_type": "code",
   "execution_count": 185,
   "metadata": {},
   "outputs": [
    {
     "data": {
      "text/plain": [
       "0"
      ]
     },
     "execution_count": 185,
     "metadata": {},
     "output_type": "execute_result"
    }
   ],
   "source": [
    "### Checking the hightest and lowest price\n",
    "df['price'].min()"
   ]
  },
  {
   "cell_type": "markdown",
   "metadata": {},
   "source": [
    "## 4 - Data Mining Goals\n",
    "\n",
    "Now that we are done cleansing the data, we have to answer the following questions:\n",
    "\n",
    "### 4.1 - Borough and room type analysis\n",
    "- What is the most visited borough?\n",
    "- What is the most frequent room type?\n",
    "- What is the most popular room type by borough?\n",
    "\n",
    "### 4.2 - Price analysis\n",
    "- On average, what is the most expensive borough?\n",
    "- On average, what is the most expensive room type?\n",
    "- What is the minimum, maximum and average price spend by borough and room type?\n",
    "\n",
    "### 4.3 - Minimum nights analysis\n",
    "- What's the mean minimum nights distribution by borough? \n",
    "- What's the mean minimum nights distribution by room type?\n",
    "- What is the minimum, maximum and average number of nights people spend by borough and room type?"
   ]
  },
  {
   "cell_type": "markdown",
   "metadata": {},
   "source": [
    "## 4.1- Borough and room type analysis\n",
    "\n",
    "### What is the most visited borough?"
   ]
  },
  {
   "cell_type": "code",
   "execution_count": 186,
   "metadata": {},
   "outputs": [],
   "source": [
    "### Declaring functions\n",
    "def percentages(data, col, colour):\n",
    "    data2 = (data[col].value_counts()/data.shape[0])*100\n",
    "    data2.plot(kind='bar',color=colour)\n",
    "    plt.title('Distribution of customers per {}'.format(col))\n",
    "    plt.show() \n",
    "    print(data2)\n",
    "    \n",
    "    \n",
    "def percentages2(data, col1, col2):\n",
    "    data2 = ((data.groupby([col1, col2])[col2].count()/data.shape[0])*100).sort_values(ascending=False)\n",
    "    data2.plot(kind='bar')\n",
    "    plt.title('Distribution of customers per {} and {}'.format(col1, col2))\n",
    "    plt.show()\n",
    "    print(data2)\n",
    "    \n",
    "    \n",
    "def mean_value(data, col1, col2):\n",
    "    data2 = data.groupby(col1)[col2].mean().sort_values(ascending=False)\n",
    "    data2.plot(kind='bar')\n",
    "    plt.title('Average {} per {}'.format(col2, col1))\n",
    "    plt.show()\n",
    "    print(data2)   \n",
    "    \n",
    "    \n",
    "def aggregations(data, col1, col2, col3):\n",
    "    data2 = data.groupby([col1, col2])[col3].mean().reset_index()\n",
    "    sns.barplot(x=col1, y=col3, hue=col2, data=data2)\n",
    "    plt.show()\n",
    "    print(df.groupby([col1, col2]).agg({col3: ['min', 'max', 'mean']}))    "
   ]
  },
  {
   "cell_type": "code",
   "execution_count": 187,
   "metadata": {},
   "outputs": [
    {
     "data": {
      "image/png": "[encoded data removed]",
      "text/plain": [
       "<Figure size 432x288 with 1 Axes>"
      ]
     },
     "metadata": {},
     "output_type": "display_data"
    },
    {
     "name": "stdout",
     "output_type": "stream",
     "text": [
      "Manhattan        44.301053\n",
      "Brooklyn         41.116679\n",
      "Queens           11.588097\n",
      "Bronx             2.231312\n",
      "Staten Island     0.762859\n",
      "Name: borough, dtype: float64\n"
     ]
    }
   ],
   "source": [
    "### Calling function\n",
    "percentages(df, 'borough', 'red')"
   ]
  },
  {
   "cell_type": "markdown",
   "metadata": {},
   "source": [
    "***Obs:***\n",
    "No wonder Manhattan is the most visited borough. What is interesting to observe is how Brooklyn closed the gap and how both of them stand out when compared to the remaining boroughs. Besides, we can see that 85% of all customers stay in either Manhattan or Brooklyn."
   ]
  },
  {
   "cell_type": "markdown",
   "metadata": {},
   "source": [
    "### What is the most frequent room type?"
   ]
  },
  {
   "cell_type": "code",
   "execution_count": 188,
   "metadata": {},
   "outputs": [
    {
     "data": {
      "image/png": "[encoded data removed]",
      "text/plain": [
       "<Figure size 432x288 with 1 Axes>"
      ]
     },
     "metadata": {},
     "output_type": "display_data"
    },
    {
     "name": "stdout",
     "output_type": "stream",
     "text": [
      "Entire home/apt    51.966459\n",
      "Private            45.661111\n",
      "Shared              2.372431\n",
      "Name: room_type, dtype: float64\n"
     ]
    }
   ],
   "source": [
    "### Calling function\n",
    "percentages(df, 'room_type', 'blue')"
   ]
  },
  {
   "cell_type": "markdown",
   "metadata": {},
   "source": [
    "***Obs:***\n",
    "Entire home/apt and Private room are the most frequent room types accounting for over 97% of all rooms. We can tell that Airbnb customers are not into room sharing."
   ]
  },
  {
   "cell_type": "markdown",
   "metadata": {},
   "source": [
    "### What is the most popular room type by borough?"
   ]
  },
  {
   "cell_type": "code",
   "execution_count": 189,
   "metadata": {},
   "outputs": [
    {
     "data": {
      "image/png": "[encoded data removed]",
      "text/plain": [
       "<Figure size 432x288 with 1 Axes>"
      ]
     },
     "metadata": {},
     "output_type": "display_data"
    },
    {
     "name": "stdout",
     "output_type": "stream",
     "text": [
      "borough        room_type      \n",
      "Manhattan      Entire home/apt    26.994580\n",
      "Brooklyn       Private            20.721955\n",
      "               Entire home/apt    19.550056\n",
      "Manhattan      Private            16.324778\n",
      "Queens         Private             6.896411\n",
      "               Entire home/apt     4.286737\n",
      "Bronx          Private             1.333470\n",
      "Manhattan      Shared              0.981695\n",
      "Brooklyn       Shared              0.844667\n",
      "Bronx          Entire home/apt     0.775130\n",
      "Queens         Shared              0.404949\n",
      "Staten Island  Private             0.384497\n",
      "               Entire home/apt     0.359955\n",
      "Bronx          Shared              0.122712\n",
      "Staten Island  Shared              0.018407\n",
      "Name: room_type, dtype: float64\n"
     ]
    }
   ],
   "source": [
    "### Calling function\n",
    "percentages2(df, 'borough', 'room_type')"
   ]
  },
  {
   "cell_type": "markdown",
   "metadata": {},
   "source": [
    "***Obs:***\n",
    "Private room is the most frequent room type in the Bronx, Brooklyn, Queens and Staten Island. Surprisinly, in Manhattan, Entire home/apt is the most observed room type by a huge margin.\n",
    "\n",
    "Moreover, we can see that 83.5% of customers stay in the following boroughs/room types\n",
    "\n",
    "1. Manhattan Entire home/apt: 27%\n",
    "2. Brooklyn Private room: 20.7%\n",
    "3. Brooklyn Entire home/apt: 19.5%\n",
    "4. Manhattan Private room: 16.3%"
   ]
  },
  {
   "cell_type": "markdown",
   "metadata": {},
   "source": [
    "## 4.2 - Price analysis\n",
    "\n",
    "### On average, what is the most expensive borough?"
   ]
  },
  {
   "cell_type": "code",
   "execution_count": 190,
   "metadata": {},
   "outputs": [
    {
     "data": {
      "image/png": "[encoded data removed]",
      "text/plain": [
       "<Figure size 432x288 with 1 Axes>"
      ]
     },
     "metadata": {},
     "output_type": "display_data"
    },
    {
     "name": "stdout",
     "output_type": "stream",
     "text": [
      "borough\n",
      "Manhattan        196.875814\n",
      "Brooklyn         124.383207\n",
      "Staten Island    114.812332\n",
      "Queens            99.517649\n",
      "Bronx             87.496792\n",
      "Name: price, dtype: float64\n"
     ]
    }
   ],
   "source": [
    "### Calling function\n",
    "mean_value(df, 'borough', 'price')"
   ]
  },
  {
   "cell_type": "markdown",
   "metadata": {},
   "source": [
    "***Obs:***\n",
    "Again, no surprise. Manhattan has the highest mean price by a long shot. However, it is interesting to observe the gap between Manhattan and the other boroughs and how close their means are."
   ]
  },
  {
   "cell_type": "markdown",
   "metadata": {},
   "source": [
    "### On average, what is the most expensive room type?"
   ]
  },
  {
   "cell_type": "code",
   "execution_count": 191,
   "metadata": {},
   "outputs": [
    {
     "data": {
      "image/png": "[encoded data removed]",
      "text/plain": [
       "<Figure size 432x288 with 1 Axes>"
      ]
     },
     "metadata": {},
     "output_type": "display_data"
    },
    {
     "name": "stdout",
     "output_type": "stream",
     "text": [
      "room_type\n",
      "Entire home/apt    211.794246\n",
      "Private             89.780973\n",
      "Shared              70.127586\n",
      "Name: price, dtype: float64\n"
     ]
    }
   ],
   "source": [
    "### Calling function\n",
    "mean_value(df, 'room_type', 'price')"
   ]
  },
  {
   "cell_type": "markdown",
   "metadata": {},
   "source": [
    "***Obs:***\n",
    "Again, no surprise. Entire home/apt has the highest mean price by more than twice the value of a Private room"
   ]
  },
  {
   "cell_type": "markdown",
   "metadata": {},
   "source": [
    "### What is the minimum, maximum and average price spend by borough and room type? "
   ]
  },
  {
   "cell_type": "code",
   "execution_count": 192,
   "metadata": {},
   "outputs": [
    {
     "data": {
      "image/png": "[encoded data removed]",
      "text/plain": [
       "<Figure size 432x288 with 1 Axes>"
      ]
     },
     "metadata": {},
     "output_type": "display_data"
    },
    {
     "name": "stdout",
     "output_type": "stream",
     "text": [
      "                              price                   \n",
      "                                min    max        mean\n",
      "borough       room_type                               \n",
      "Bronx         Entire home/apt    28   1000  127.506596\n",
      "              Private             0   2500   66.788344\n",
      "              Shared             20    800   59.800000\n",
      "Brooklyn      Entire home/apt     0  10000  178.327545\n",
      "              Private             0   7500   76.500099\n",
      "              Shared              0    725   50.527845\n",
      "Manhattan     Entire home/apt     0  10000  249.239109\n",
      "              Private            10   9999  116.776622\n",
      "              Shared             10   1000   88.977083\n",
      "Queens        Entire home/apt    10   2600  147.050573\n",
      "              Private            10  10000   71.762456\n",
      "              Shared             11   1800   69.020202\n",
      "Staten Island Entire home/apt    48   5000  173.846591\n",
      "              Private            20    300   62.292553\n",
      "              Shared             13    150   57.444444\n"
     ]
    }
   ],
   "source": [
    "### Calling function\n",
    "aggregations(df, 'borough', 'room_type', 'price')"
   ]
  },
  {
   "cell_type": "markdown",
   "metadata": {},
   "source": [
    "***Obs:***\n",
    "No wonder entire home/apt is the most expensive room type. In addition, private and shared room have similiar prices in the Bronx, Queens and Staten Island. \n",
    "\n",
    "What is interesting to observe is that Manhattan and Brooklyn have a similar pattern.\n",
    "\n",
    "The average price for Entire home/apt is way more expensive than Private and Shared, but the average price of a Private room is not much more expensive than that of a shared room"
   ]
  },
  {
   "cell_type": "markdown",
   "metadata": {},
   "source": [
    "## 4.3 - Minimum nights analysis\n",
    "\n",
    "### What's the mean minimum nights distribution by borough?"
   ]
  },
  {
   "cell_type": "code",
   "execution_count": 193,
   "metadata": {},
   "outputs": [
    {
     "data": {
      "image/png": "[encoded data removed]",
      "text/plain": [
       "<Figure size 432x288 with 1 Axes>"
      ]
     },
     "metadata": {},
     "output_type": "display_data"
    },
    {
     "name": "stdout",
     "output_type": "stream",
     "text": [
      "borough\n",
      "Manhattan        8.579151\n",
      "Brooklyn         6.056556\n",
      "Queens           5.181433\n",
      "Staten Island    4.831099\n",
      "Bronx            4.560953\n",
      "Name: minimum_nights, dtype: float64\n"
     ]
    }
   ],
   "source": [
    "### Calling function\n",
    "mean_value(df, 'borough', 'minimum_nights')"
   ]
  },
  {
   "cell_type": "markdown",
   "metadata": {},
   "source": [
    "***Obs:***\n",
    "We can see that, apart from Manhattan, the average number of minimum nights is almost equally distributed across the remaining boroughs. Therefore, customers usually stay longer in Manhattan"
   ]
  },
  {
   "cell_type": "markdown",
   "metadata": {},
   "source": [
    "### What's the mean minimum nights distribution by room type?"
   ]
  },
  {
   "cell_type": "code",
   "execution_count": 194,
   "metadata": {},
   "outputs": [
    {
     "data": {
      "image/png": "[encoded data removed]",
      "text/plain": [
       "<Figure size 432x288 with 1 Axes>"
      ]
     },
     "metadata": {},
     "output_type": "display_data"
    },
    {
     "name": "stdout",
     "output_type": "stream",
     "text": [
      "room_type\n",
      "Entire home/apt    8.506907\n",
      "Shared             6.475000\n",
      "Private            5.377900\n",
      "Name: minimum_nights, dtype: float64\n"
     ]
    }
   ],
   "source": [
    "### Calling function\n",
    "mean_value(df, 'room_type', 'minimum_nights')"
   ]
  },
  {
   "cell_type": "markdown",
   "metadata": {},
   "source": [
    "***Obs***:\n",
    "Customers tend to stay longer in an entire home/apt on average. Although the number of shared rooms is way smaller when compared to the other two room types, people tend to stay longer in shared rooms when compared to private rooms."
   ]
  },
  {
   "cell_type": "markdown",
   "metadata": {},
   "source": [
    "### What is the minimum, maximum and average number of nights people spend by borough and room type? "
   ]
  },
  {
   "cell_type": "code",
   "execution_count": 165,
   "metadata": {},
   "outputs": [
    {
     "data": {
      "image/png": "[encoded data removed]",
      "text/plain": [
       "<Figure size 432x288 with 1 Axes>"
      ]
     },
     "metadata": {},
     "output_type": "display_data"
    },
    {
     "name": "stdout",
     "output_type": "stream",
     "text": [
      "                              minimum_nights                 \n",
      "                                         min   max       mean\n",
      "borough       room_type                                      \n",
      "Bronx         Entire home/apt              1   186   5.957784\n",
      "              Private                      1   365   3.858896\n",
      "              Shared                       1    90   3.366667\n",
      "Brooklyn      Entire home/apt              1   500   6.531332\n",
      "              Private                      1   999   5.539479\n",
      "              Shared                       1   100   7.753027\n",
      "Manhattan     Entire home/apt              1  1250  10.539283\n",
      "              Private                      1   365   5.446880\n",
      "              Shared                       1   999   6.766667\n",
      "Queens        Entire home/apt              1   500   5.369752\n",
      "              Private                      1   365   5.120107\n",
      "              Shared                       1    62   4.232323\n",
      "Staten Island Entire home/apt              1   365   6.238636\n",
      "              Private                      1    33   3.632979\n",
      "              Shared                       1     4   2.333333\n"
     ]
    }
   ],
   "source": [
    "### Calling function\n",
    "aggregations(df, 'borough', 'room_type', 'minimum_nights')"
   ]
  },
  {
   "cell_type": "markdown",
   "metadata": {},
   "source": [
    "***Obs:***\n",
    "It is interesting to observe that in Manhattan, the most frequent room types is also the one with the highest number of minimum nights. Besides, people who stay in Manhhattan and Brooklyn tend to stay longer when sharing their rooms. The only question is how much more revenue this type of customer can add to Airbnb."
   ]
  },
  {
   "cell_type": "markdown",
   "metadata": {},
   "source": [
    "## 5 - Evaluating the Results\n",
    "\n",
    "<p>The most valuable customers are those who stay in Manhattan, in a entire/home apt and stay on average 10 days in New York city.</p>\n",
    "<p>Customers are willing to pay more to stay in either Brooklyn or Manhattan when compared to Queen, Bronx and Staten Island. Besides, they don't seem to be very much into room sharing.<p/>\n",
    "\n",
    "<p>Customers who stay in Manhattan or Brooklyn in shared rooms tend to stay longer when compared to the other boroughs.<p/>\n",
    "\n",
    "<p>If Airbnb focuses on offering more apartments in Brooklyn and Manhattan, then it is very likely that its revenue will grow.<p/>\n",
    "\n",
    "Staten Island is not considered a place to stay when visiting New York. Maybe it has potential to grow, maybe not. But, because its average price is similar to Brooklyn's, Airbnb should analyze whether it is possible to expand the number of apartments in that specific borough."
   ]
  },
  {
   "cell_type": "markdown",
   "metadata": {},
   "source": [
    "## 6 - Blog Post\n",
    "\n",
    "Blog post on [Medium](https://paulo-toscano.medium.com/) for a non-technical audience"
   ]
  }
 ],
 "metadata": {
  "kernelspec": {
   "display_name": "Python 3",
   "language": "python",
   "name": "python3"
  },
  "language_info": {
   "codemirror_mode": {
    "name": "ipython",
    "version": 3
   },
   "file_extension": ".py",
   "mimetype": "text/x-python",
   "name": "python",
   "nbconvert_exporter": "python",
   "pygments_lexer": "ipython3",
   "version": "3.6.5"
  }
 },
 "nbformat": 4,
 "nbformat_minor": 2
}
